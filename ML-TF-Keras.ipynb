{
 "cells": [
  {
   "cell_type": "markdown",
   "metadata": {
    "slideshow": {
     "slide_type": "slide"
    }
   },
   "source": [
    "# Keras and Tensorflow\n",
    "\n",
    "NYC Resistor class, 2019-12-07\n",
    "\n",
    "https://github.com/michiexile/tensorflow-class\n",
    "\n",
    "wifi: NYCR24 password: clubmate"
   ]
  },
  {
   "cell_type": "markdown",
   "metadata": {
    "slideshow": {
     "slide_type": "slide"
    }
   },
   "source": [
    "![](TF_FullColor_Horizontal.svg)\n",
    "\n",
    "https://tensorflow.org\n",
    "\n",
    "Google Brain's internal machine learning library. Open Sourced November 2015.\n",
    "\n",
    "*Graph computation* paradigm (also Theano, CNTK, ...)\n",
    "\n",
    "Python API\n",
    "\n",
    "Tensorflow.js, TensorFlow Lite (Android/iOS), Tensor Processing Unit, R, C++, Haskell, Java, Go, Rust, ...\n",
    "\n",
    "At the core:\n",
    "\n",
    "1. Tensor handling library\n",
    "2. Numerics abstraction layer\n",
    "3. Deep Learning friendly interaction abstraction"
   ]
  },
  {
   "cell_type": "markdown",
   "metadata": {
    "slideshow": {
     "slide_type": "slide"
    }
   },
   "source": [
    "![](keras-logo-2018-large-1200.png)\n",
    "\n",
    "https://keras.io\n",
    "\n",
    "High-level interface to tensor graph computation libraries: common abstraction for TensorFlow, Theano, CNTK, …\n",
    "\n",
    "One code, many backends\n",
    "\n",
    "Streamline neural network description\n",
    "\n",
    "Embedded into Tensorflow, as of 2.0 the canonical interaction mode with Tensorflow."
   ]
  },
  {
   "cell_type": "markdown",
   "metadata": {
    "slideshow": {
     "slide_type": "slide"
    }
   },
   "source": [
    "# Installation\n",
    "\n",
    "`pip install \"tensorflow>=2.0.0\"`\n",
    "\n",
    "Will get you setup for CPU-only, vanilla TensorFlow, including the Tensorflow version of Keras\n",
    "\n",
    "TensorFlow has very wide spectrum of possible optimization\n",
    "\n",
    "GPU, Cluster, optimized execution ordering, vector processing instructions, ....\n",
    "\n",
    "Compile yourself to get higher efficiency\n",
    "\n",
    "Also make sure you have the PyLab stack\n",
    "\n",
    "`pip install ipython scipy numpy matplotlib`\n",
    "\n"
   ]
  },
  {
   "cell_type": "markdown",
   "metadata": {
    "slideshow": {
     "slide_type": "slide"
    }
   },
   "source": [
    "# Tensorflow-Keras Hello World\n",
    "\n",
    "Computer Vision Task: recognize handwritten digits (MNIST)"
   ]
  },
  {
   "cell_type": "code",
   "execution_count": 2,
   "metadata": {},
   "outputs": [
    {
     "name": "stdout",
     "output_type": "stream",
     "text": [
      "Populating the interactive namespace from numpy and matplotlib\n",
      "(60000, 28, 28)\n"
     ]
    },
    {
     "data": {
      "text/plain": [
       "Text(0.5, 1.0, 'Digit: 5')"
      ]
     },
     "execution_count": 2,
     "metadata": {},
     "output_type": "execute_result"
    },
    {
     "data": {
      "image/png": "[encoded data removed]",
      "text/plain": [
       "<Figure size 432x288 with 1 Axes>"
      ]
     },
     "metadata": {
      "needs_background": "light"
     },
     "output_type": "display_data"
    }
   ],
   "source": [
    "%pylab inline\n",
    "import tensorflow as tf\n",
    "from tensorflow import keras\n",
    "\n",
    "((X_train, y_train), \n",
    " (X_test, y_test)) = keras.datasets.mnist.load_data()\n",
    "\n",
    "print(X_train.shape)\n",
    "imshow(X_train[0,:,:])\n",
    "title(f\"Digit: {y_train[0]}\")"
   ]
  },
  {
   "cell_type": "code",
   "execution_count": null,
   "metadata": {},
   "outputs": [],
   "source": []
  }
 ],
 "metadata": {
  "kernelspec": {
   "display_name": "Python 3",
   "language": "python",
   "name": "python3"
  },
  "language_info": {
   "codemirror_mode": {
    "name": "ipython",
    "version": 3
   },
   "file_extension": ".py",
   "mimetype": "text/x-python",
   "name": "python",
   "nbconvert_exporter": "python",
   "pygments_lexer": "ipython3",
   "version": "3.7.2"
  }
 },
 "nbformat": 4,
 "nbformat_minor": 4
}
