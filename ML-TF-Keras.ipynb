{
 "cells": [
  {
   "cell_type": "markdown",
   "metadata": {
    "slideshow": {
     "slide_type": "slide"
    }
   },
   "source": [
    "# Keras and Tensorflow\n",
    "\n",
    "NYC Resistor class, 2019-12-07\n",
    "\n",
    "https://github.com/michiexile/tensorflow-class\n",
    "\n",
    "wifi: NYCR24 password: clubmate"
   ]
  },
  {
   "cell_type": "markdown",
   "metadata": {
    "slideshow": {
     "slide_type": "slide"
    }
   },
   "source": [
    "# Tensorflow\n",
    "\n",
    "![](TF_FullColor_Horizontal.svg)\n",
    "\n",
    "https://tensorflow.org\n",
    "\n",
    "Google Brain's internal machine learning library. Open Sourced November 2015.\n",
    "\n",
    "*Graph computation* paradigm (also Theano, CNTK, ...)\n",
    "\n",
    "Python API\n",
    "\n",
    "Tensorflow.js, TensorFlow Lite (Android/iOS), Tensor Processing Unit, R, C++, Haskell, Java, Go, Rust, ...\n",
    "\n",
    "At the core:\n",
    "\n",
    "1. Tensor handling library\n",
    "2. Numerics abstraction layer\n",
    "3. Deep Learning friendly interaction abstraction"
   ]
  }
 ],
 "metadata": {
  "kernelspec": {
   "display_name": "Python 3",
   "language": "python",
   "name": "python3"
  },
  "language_info": {
   "codemirror_mode": {
    "name": "ipython",
    "version": 3
   },
   "file_extension": ".py",
   "mimetype": "text/x-python",
   "name": "python",
   "nbconvert_exporter": "python",
   "pygments_lexer": "ipython3",
   "version": "3.7.2"
  }
 },
 "nbformat": 4,
 "nbformat_minor": 4
}
