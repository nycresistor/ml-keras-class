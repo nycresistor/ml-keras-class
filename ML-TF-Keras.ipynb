{
 "cells": [
  {
   "cell_type": "markdown",
   "metadata": {
    "slideshow": {
     "slide_type": "slide"
    }
   },
   "source": [
    "# Keras and Tensorflow\n",
    "\n",
    "NYC Resistor class, 2019-12-07\n",
    "\n",
    "https://nycresistor.github.io/ml-keras-class/\n",
    "\n",
    "wifi: NYCR24 password: clubmate"
   ]
  },
  {
   "cell_type": "markdown",
   "metadata": {
    "slideshow": {
     "slide_type": "slide"
    }
   },
   "source": [
    "<img src=\"TF_FullColor_Horizontal.svg\" height=\"100\"></img>\n",
    "\n",
    "https://tensorflow.org\n",
    "\n",
    "Google Brain's internal machine learning library. Open Sourced November 2015.\n",
    "\n",
    "*Graph computation* paradigm (also Theano, CNTK, ...)\n",
    "\n",
    "Python API\n",
    "\n",
    "Tensorflow.js, TensorFlow Lite (Android/iOS), Tensor Processing Unit, R, C++, Haskell, Java, Go, Rust, ...\n",
    "\n",
    "At the core:\n",
    "\n",
    "1. Tensor handling library\n",
    "2. Numerics abstraction layer\n",
    "3. Deep Learning friendly interaction abstraction"
   ]
  },
  {
   "cell_type": "markdown",
   "metadata": {
    "slideshow": {
     "slide_type": "slide"
    }
   },
   "source": [
    "<img src=\"keras-logo-2018-large-1200.png\" height=\"100\"></img>\n",
    "\n",
    "https://keras.io\n",
    "\n",
    "High-level interface to tensor graph computation libraries: common abstraction for TensorFlow, Theano, CNTK, …\n",
    "\n",
    "One code, many backends\n",
    "\n",
    "Streamline neural network description\n",
    "\n",
    "Embedded into Tensorflow, as of 2.0 the canonical interaction mode with Tensorflow."
   ]
  },
  {
   "cell_type": "markdown",
   "metadata": {
    "slideshow": {
     "slide_type": "slide"
    }
   },
   "source": [
    "# Tensorflow 2.0 interaction modes\n",
    "\n",
    "As of Tensorflow 2.0, the recommended modes of interaction are (in order of increasing complexity and expressive power):\n",
    "\n",
    "1. Keras with the `Sequential` model type.\n",
    "2. Keras with the *Functional* model type. (this class)\n",
    "3. Subclassing Keras objects.\n",
    "4. Manually tracking and handling details. Using the `@tensorflow.function` decorator to instruct Tensorflow to optimize and manage computations, and using `GradientTape` to manage automatic differentiation."
   ]
  },
  {
   "cell_type": "markdown",
   "metadata": {
    "slideshow": {
     "slide_type": "slide"
    }
   },
   "source": [
    "# Installation\n",
    "\n",
    "`pip install \"tensorflow>=2.0.0\"`\n",
    "\n",
    "Will get you setup for CPU-only, vanilla TensorFlow, including the Tensorflow version of Keras\n",
    "\n",
    "TensorFlow has very wide spectrum of possible optimization\n",
    "\n",
    "GPU, Cluster, optimized execution ordering, vector processing instructions, ....\n",
    "\n",
    "Compile yourself to get higher efficiency\n",
    "\n",
    "Also make sure you have the PyLab stack\n",
    "\n",
    "`pip install scipy numpy matplotlib`\n",
    "\n",
    "Additional recommended Python tools to make this comfortable are iPython and Jupyter Lab\n",
    "\n",
    "`pip install ipython jupyter`"
   ]
  },
  {
   "cell_type": "markdown",
   "metadata": {
    "slideshow": {
     "slide_type": "slide"
    }
   },
   "source": [
    "# Tensorflow-Keras Hello World\n",
    "\n",
    "Computer Vision Task: recognize handwritten digits (MNIST)"
   ]
  },
  {
   "cell_type": "code",
   "execution_count": 1,
   "metadata": {},
   "outputs": [
    {
     "name": "stdout",
     "output_type": "stream",
     "text": [
      "Populating the interactive namespace from numpy and matplotlib\n",
      "(60000, 28, 28)\n"
     ]
    },
    {
     "data": {
      "text/plain": [
       "Text(0.5, 1.0, 'Digit: 5')"
      ]
     },
     "execution_count": 1,
     "metadata": {},
     "output_type": "execute_result"
    },
    {
     "data": {
      "image/png": "[encoded data removed]",
      "text/plain": [
       "<Figure size 432x288 with 1 Axes>"
      ]
     },
     "metadata": {
      "needs_background": "light"
     },
     "output_type": "display_data"
    }
   ],
   "source": [
    "%pylab inline\n",
    "import tensorflow as tf\n",
    "from tensorflow import keras\n",
    "\n",
    "((X_train, y_train), \n",
    " (X_test, y_test)) = keras.datasets.mnist.load_data()\n",
    "\n",
    "print(X_train.shape)\n",
    "imshow(X_train[0,:,:])\n",
    "title(f\"Digit: {y_train[0]}\")"
   ]
  },
  {
   "cell_type": "markdown",
   "metadata": {
    "slideshow": {
     "slide_type": "slide"
    }
   },
   "source": [
    "![](KerasMNIST_1.png)"
   ]
  },
  {
   "cell_type": "code",
   "execution_count": 2,
   "metadata": {},
   "outputs": [],
   "source": [
    "from tensorflow.keras.layers import Input, Dense, Reshape\n",
    "from tensorflow.keras.models import Model\n",
    "\n",
    "inputs = Input(shape=(28,28))\n",
    "x = Reshape((28*28,))(inputs)\n",
    "x = Dense(64, activation=\"relu\")(x)\n",
    "x = Dense(64, activation=\"relu\")(x)\n",
    "outputs = Dense(10, activation=\"softmax\")(x)\n",
    "\n",
    "model = Model(inputs=inputs, outputs=outputs)\n",
    "model.compile(optimizer=\"rmsprop\", \n",
    "              loss=\"sparse_categorical_crossentropy\",\n",
    "              metrics=[\"accuracy\"])"
   ]
  },
  {
   "cell_type": "code",
   "execution_count": 3,
   "metadata": {
    "slideshow": {
     "slide_type": "slide"
    }
   },
   "outputs": [
    {
     "name": "stdout",
     "output_type": "stream",
     "text": [
      "Train on 60000 samples\n",
      "60000/60000 [==============================] - 6s 98us/sample - loss: 1.5749 - accuracy: 0.8496s - loss: 4.8468 - accuracy: 0.75 - ETA: 7s - loss: 4.6863 - \n"
     ]
    },
    {
     "data": {
      "text/plain": [
       "<tensorflow.python.keras.callbacks.History at 0x1339d5780>"
      ]
     },
     "execution_count": 3,
     "metadata": {},
     "output_type": "execute_result"
    }
   ],
   "source": [
    "model.fit(X_train, y_train)"
   ]
  },
  {
   "cell_type": "code",
   "execution_count": 4,
   "metadata": {},
   "outputs": [
    {
     "data": {
      "image/png": "[encoded data removed]",
      "text/plain": [
       "<Figure size 432x288 with 10 Axes>"
      ]
     },
     "metadata": {
      "needs_background": "light"
     },
     "output_type": "display_data"
    }
   ],
   "source": [
    "y_pred = model.predict(X_test[:10,:,:]).argmax(axis=1)\n",
    "\n",
    "for i in range(10):\n",
    "    subplot(2,5,i+1)\n",
    "    imshow(X_test[i,:,:])\n",
    "    title(y_pred[i])"
   ]
  },
  {
   "cell_type": "code",
   "execution_count": 5,
   "metadata": {},
   "outputs": [
    {
     "name": "stdout",
     "output_type": "stream",
     "text": [
      "Model: \"model\"\n",
      "_________________________________________________________________\n",
      "Layer (type)                 Output Shape              Param #   \n",
      "=================================================================\n",
      "input_1 (InputLayer)         [(None, 28, 28)]          0         \n",
      "_________________________________________________________________\n",
      "reshape (Reshape)            (None, 784)               0         \n",
      "_________________________________________________________________\n",
      "dense (Dense)                (None, 64)                50240     \n",
      "_________________________________________________________________\n",
      "dense_1 (Dense)              (None, 64)                4160      \n",
      "_________________________________________________________________\n",
      "dense_2 (Dense)              (None, 10)                650       \n",
      "=================================================================\n",
      "Total params: 55,050\n",
      "Trainable params: 55,050\n",
      "Non-trainable params: 0\n",
      "_________________________________________________________________\n"
     ]
    }
   ],
   "source": [
    "model.summary()"
   ]
  },
  {
   "cell_type": "markdown",
   "metadata": {
    "slideshow": {
     "slide_type": "slide"
    }
   },
   "source": [
    "# Neural Network Crash Course\n",
    "\n",
    "Neural Networks go back and forth between two stages:\n",
    "\n",
    "1. Linear model $x \\to Wx + b$\n",
    "2. Non-linear *activation function* $x \\to f(x)$\n",
    "\n",
    "Without the non-linear step successive linear models collapse to a single linear model."
   ]
  },
  {
   "cell_type": "code",
   "execution_count": 6,
   "metadata": {},
   "outputs": [
    {
     "data": {
      "text/plain": [
       "<matplotlib.legend.Legend at 0x134479ba8>"
      ]
     },
     "execution_count": 6,
     "metadata": {},
     "output_type": "execute_result"
    },
    {
     "data": {
      "image/png": "[encoded data removed]",
      "text/plain": [
       "<Figure size 432x288 with 1 Axes>"
      ]
     },
     "metadata": {
      "needs_background": "light"
     },
     "output_type": "display_data"
    }
   ],
   "source": [
    "from tensorflow.keras.activations import *\n",
    "xs = arange(-3,3,.1)\n",
    "for f in [relu, sigmoid, tanh]:\n",
    "    plot(xs, f(xs))\n",
    "legend([\"ReLU\",\"sigmoid\",\"tanh\"])"
   ]
  },
  {
   "cell_type": "markdown",
   "metadata": {
    "slideshow": {
     "slide_type": "slide"
    }
   },
   "source": [
    "# Neural Network Crash Course\n",
    "\n",
    "Each pair of Linear → Non-linear is called a *layer*.\n",
    "\n",
    "Layers compose to a *network*.\n",
    "\n",
    "The first layer is the *input*, the last layer is the *output*, additional layers are *hidden layers*.\n",
    "\n",
    "**Theorem** Neural networks can approximate (almost every) function."
   ]
  },
  {
   "cell_type": "markdown",
   "metadata": {
    "slideshow": {
     "slide_type": "slide"
    }
   },
   "source": [
    "# Computer Vision: Convolutional Neural Networks\n",
    "\n",
    "Recognizing things in images should not depend on **where** in the image the thing is.\n",
    "\n",
    "Solution: Convolutional Neural Network - sweep a *window* over the image, and let the same network operate on each window.\n",
    "\n",
    "Usually paired with **pooling** - adjacent (hyper)pixels \"vote\" using addition, means or maximum on their content.\n",
    "\n",
    "Other ways to improve performance of our digit recognition system are to enforce redundancy. **Dropout layers** will randomly remove parts of the signal forcing the network to be robust enough to survive losing parts of itself at random."
   ]
  },
  {
   "cell_type": "markdown",
   "metadata": {
    "slideshow": {
     "slide_type": "slide"
    }
   },
   "source": [
    "* N x 28 x 28\n",
    "  - CNN ReLU layer, 32 outputs\n",
    "* N x 26 x 26 x 32\n",
    "  - CNN ReLU layer, 64 outputs\n",
    "* N x 24 x 24 x 64\n",
    "  - Max pooling layer \n",
    "* N x 12 x 12 x 64\n",
    "  - 25% Dropout layer\n",
    "* N x 12 x 12 x 64\n",
    "  - Reshape layer\n",
    "* N x 9216\n",
    "  - Dense ReLU layer\n",
    "* N x 128\n",
    "  - Dense ReLU layer\n",
    "* N x 128\n",
    "  - 25% Dropout layer\n",
    "* N x 128\n",
    "  - Dense Softmax output layer\n",
    "* N x 10\n"
   ]
  },
  {
   "cell_type": "code",
   "execution_count": 7,
   "metadata": {
    "slideshow": {
     "slide_type": "slide"
    }
   },
   "outputs": [],
   "source": [
    "from tensorflow.keras.layers import *\n",
    "\n",
    "inputs = Input(shape=(28,28))\n",
    "x = Reshape((28,28,1))(inputs) # because we need \"colors\" for CNN\n",
    "x = Conv2D(32, 3, activation=\"relu\")(x)\n",
    "x = Conv2D(64, 3, activation=\"relu\")(x)\n",
    "x = MaxPool2D(2)(x)\n",
    "x = Dropout(0.25)(x)\n",
    "x = Flatten()(x)\n",
    "x = Dense(128, activation=\"relu\")(x)\n",
    "x = Dense(128, activation=\"relu\")(x)\n",
    "x = Dropout(0.25)(x)\n",
    "outputs = Dense(10, activation=\"softmax\")(x)\n",
    "\n",
    "model = Model(inputs=inputs, outputs=outputs)\n",
    "model.compile(optimizer=\"rmsprop\", \n",
    "              loss=\"sparse_categorical_crossentropy\",\n",
    "              metrics=[\"accuracy\"])"
   ]
  },
  {
   "cell_type": "code",
   "execution_count": 8,
   "metadata": {
    "slideshow": {
     "slide_type": "slide"
    }
   },
   "outputs": [
    {
     "name": "stdout",
     "output_type": "stream",
     "text": [
      "Train on 60000 samples\n",
      "60000/60000 [==============================] - 144s 2ms/sample - loss: 0.2998 - accuracy: 0.9440\n"
     ]
    },
    {
     "data": {
      "text/plain": [
       "<tensorflow.python.keras.callbacks.History at 0x1354f7320>"
      ]
     },
     "execution_count": 8,
     "metadata": {},
     "output_type": "execute_result"
    }
   ],
   "source": [
    "model.fit(X_train, y_train)"
   ]
  },
  {
   "cell_type": "code",
   "execution_count": 9,
   "metadata": {},
   "outputs": [
    {
     "data": {
      "image/png": "[encoded data removed]",
      "text/plain": [
       "<Figure size 432x288 with 10 Axes>"
      ]
     },
     "metadata": {
      "needs_background": "light"
     },
     "output_type": "display_data"
    }
   ],
   "source": [
    "y_pred = model.predict(X_test[10:20,:,:].astype(\"float\")).argmax(axis=1)\n",
    "\n",
    "for i in range(10):\n",
    "    subplot(2,5,i+1)\n",
    "    imshow(X_test[10+i,:,:])\n",
    "    title(y_pred[i])"
   ]
  },
  {
   "cell_type": "code",
   "execution_count": 10,
   "metadata": {
    "slideshow": {
     "slide_type": "slide"
    }
   },
   "outputs": [
    {
     "name": "stdout",
     "output_type": "stream",
     "text": [
      "Model: \"model_1\"\n",
      "_________________________________________________________________\n",
      "Layer (type)                 Output Shape              Param #   \n",
      "=================================================================\n",
      "input_2 (InputLayer)         [(None, 28, 28)]          0         \n",
      "_________________________________________________________________\n",
      "reshape_1 (Reshape)          (None, 28, 28, 1)         0         \n",
      "_________________________________________________________________\n",
      "conv2d (Conv2D)              (None, 26, 26, 32)        320       \n",
      "_________________________________________________________________\n",
      "conv2d_1 (Conv2D)            (None, 24, 24, 64)        18496     \n",
      "_________________________________________________________________\n",
      "max_pooling2d (MaxPooling2D) (None, 12, 12, 64)        0         \n",
      "_________________________________________________________________\n",
      "dropout (Dropout)            (None, 12, 12, 64)        0         \n",
      "_________________________________________________________________\n",
      "flatten (Flatten)            (None, 9216)              0         \n",
      "_________________________________________________________________\n",
      "dense_3 (Dense)              (None, 128)               1179776   \n",
      "_________________________________________________________________\n",
      "dense_4 (Dense)              (None, 128)               16512     \n",
      "_________________________________________________________________\n",
      "dropout_1 (Dropout)          (None, 128)               0         \n",
      "_________________________________________________________________\n",
      "dense_5 (Dense)              (None, 10)                1290      \n",
      "=================================================================\n",
      "Total params: 1,216,394\n",
      "Trainable params: 1,216,394\n",
      "Non-trainable params: 0\n",
      "_________________________________________________________________\n"
     ]
    }
   ],
   "source": [
    "model.summary()"
   ]
  },
  {
   "cell_type": "markdown",
   "metadata": {
    "slideshow": {
     "slide_type": "slide"
    }
   },
   "source": [
    "# Tensorboard\n",
    "\n",
    "One major attractive tool is **Tensorboard** - a dashboard for training ML models in Tensorflow. You install it with pip: `pip install tensorboard`.\n",
    "\n",
    "To use it, create and add a **callback** to your `model.fit` call.\n",
    "Instead of \n",
    "\n",
    "```\n",
    "model.fit(X_train, y_train)\n",
    "```\n",
    "\n",
    "use\n",
    "\n",
    "```\n",
    "tb = keras.callbacks.TensorBoard()\n",
    "model.fit(X_train, y_train, callbacks=[tb])\n",
    "```\n",
    "\n",
    "This writes out logs to the directory `./logs/` that you can view by running the command\n",
    "\n",
    "```\n",
    "tensorboard --logdir logs\n",
    "```"
   ]
  },
  {
   "cell_type": "markdown",
   "metadata": {
    "slideshow": {
     "slide_type": "slide"
    }
   },
   "source": [
    "# Now you\n",
    "\n",
    "Keras includes a dataset with pictures of fashion items, the `fashion_mnist` dataset.\n",
    "\n",
    "With what we've done so far, you are equipped to build a system to tell the difference between shoes and handbags, t-shirts and jackets. "
   ]
  }
 ],
 "metadata": {
  "kernelspec": {
   "display_name": "Python 3",
   "language": "python",
   "name": "python3"
  },
  "language_info": {
   "codemirror_mode": {
    "name": "ipython",
    "version": 3
   },
   "file_extension": ".py",
   "mimetype": "text/x-python",
   "name": "python",
   "nbconvert_exporter": "python",
   "pygments_lexer": "ipython3",
   "version": "3.7.2"
  }
 },
 "nbformat": 4,
 "nbformat_minor": 4
}
